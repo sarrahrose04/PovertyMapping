{
  "nbformat": 4,
  "nbformat_minor": 0,
  "metadata": {
    "colab": {
      "name": "Processing&Downloading_DaytimeImg.ipynb",
      "provenance": [],
      "authorship_tag": "ABX9TyOKa/0HQomifTMpvmZtf0jR",
      "include_colab_link": true
    },
    "kernelspec": {
      "name": "python3",
      "display_name": "Python 3"
    },
    "language_info": {
      "name": "python"
    }
  },
  "cells": [
    {
      "cell_type": "markdown",
      "metadata": {
        "id": "view-in-github",
        "colab_type": "text"
      },
      "source": [
        "<a href=\"https://colab.research.google.com/github/sarrahrose04/PovertyMapping/blob/main/Processing%26Downloading_DaytimeImg.ipynb\" target=\"_parent\"><img src=\"https://colab.research.google.com/assets/colab-badge.svg\" alt=\"Open In Colab\"/></a>"
      ]
    },
    {
      "cell_type": "code",
      "metadata": {
        "id": "f-qOkkuvjILu"
      },
      "source": [
        "from google.colab import drive\n",
        "drive.mount{'/content/gdrive', force_remount=True}"
      ],
      "execution_count": null,
      "outputs": []
    },
    {
      "cell_type": "code",
      "metadata": {
        "id": "DAXr1gEM8rWD"
      },
      "source": [
        "#Ensure that all edits in libraries are autmatically reloaded & all images shown in notebook\n",
        "\n",
        "%reload_ext autoreload\n",
        "%autoreload 2\n",
        "%matplotlib inline"
      ],
      "execution_count": null,
      "outputs": []
    },
    {
      "cell_type": "code",
      "metadata": {
        "id": "ql9zyT1i86g8"
      },
      "source": [
        "!pip install earthengine-api\n",
        "!earthengine authenticate \n",
        "import ee; ee.Initialize();\n"
      ],
      "execution_count": null,
      "outputs": []
    },
    {
      "cell_type": "markdown",
      "metadata": {
        "id": "YMSNW-4b9Of-"
      },
      "source": [
        "**Dataset Preparation**"
      ]
    },
    {
      "cell_type": "code",
      "metadata": {
        "id": "_aZKZQ5B9ONk"
      },
      "source": [
        "#Import CSV \n",
        "import pandas as pd\n",
        "centroid_csv_path = '' #paste\n",
        "\n",
        "#Store in pandas dataframe\n",
        "df = pd.read_csv(centroid_csv_path)"
      ],
      "execution_count": null,
      "outputs": []
    },
    {
      "cell_type": "code",
      "metadata": {
        "id": "2noBFejZ9h3-"
      },
      "source": [
        "#Set the id as row index df\n",
        "df = df.set_index('id')\n",
        "df.head()\n",
        "\n",
        "#Determine row count & save as imagery count\n",
        "imagery_count = df.count()[1] + 1\n",
        "df.count()"
      ],
      "execution_count": null,
      "outputs": []
    },
    {
      "cell_type": "code",
      "metadata": {
        "id": "LMNkGGWc9uY-"
      },
      "source": [
        "! pip install 'geopandas'"
      ],
      "execution_count": null,
      "outputs": []
    },
    {
      "cell_type": "markdown",
      "metadata": {
        "id": "6NLITb6y-7gM"
      },
      "source": [
        "**Loading Shapefile**"
      ]
    },
    {
      "cell_type": "code",
      "metadata": {
        "id": "aexUl75u-Zql"
      },
      "source": [
        "import geopandas as gpd \n",
        "\n",
        "adm0_shp = gpd.read_file('') #paste\n",
        "#Only one row because it's a country-level shapefile\n",
        "adm0_shp.head() "
      ],
      "execution_count": null,
      "outputs": []
    },
    {
      "cell_type": "markdown",
      "metadata": {
        "id": "X9XVBBCI_LrZ"
      },
      "source": [
        "**Generate Bounding Box Polygon**\n"
      ]
    },
    {
      "cell_type": "code",
      "metadata": {
        "id": "PYQdf10Y-9tW"
      },
      "source": [
        "#Create a bounding box polygon using geopanda's function envelope \n",
        "bbox_poly = adm_shp.geometry.envelope \n",
        "bbox = bbox_poly.to_json() #Convert to JSON \n",
        "\n",
        "#Extract BB Coordinates from JSON Object \n",
        "bbox_dict = eval(bbox) #convert JSON obj to Dict Obj\n",
        "bbox_features_dict = bbox['features'][0] #subset of first feature containing coordinates\n",
        "bbox_coordinates = bbox_features_dict['geometry']['coordinates'] #subset of dictionary to get coordinate values of BB\n",
        "\n",
        "#Convert Bounding Box into GEE polygon object\n",
        "bounding_box = ee.Geometry.Polygon(bbox_coordinates)"
      ],
      "execution_count": null,
      "outputs": []
    },
    {
      "cell_type": "markdown",
      "metadata": {
        "id": "XWBSXzMdAu7-"
      },
      "source": [
        "**Satellite Imagery Filtering & Visualisation**"
      ]
    },
    {
      "cell_type": "markdown",
      "metadata": {
        "id": "I4PPRg9OBM9l"
      },
      "source": [
        "Input Data Information"
      ]
    },
    {
      "cell_type": "code",
      "metadata": {
        "id": "JT6zCA1nATi9"
      },
      "source": [
        "country = 'THA'\n",
        "year = '2015'"
      ],
      "execution_count": null,
      "outputs": []
    },
    {
      "cell_type": "code",
      "metadata": {
        "id": "ZzKCuyYNBSrn"
      },
      "source": [
        "#Use If-else statements to decide parameters of satellite imagery \n",
        "if int(year) >= 2015: \n",
        "  day_sat='ST' #sentinel 2 satellite\n",
        "  img_res = '384'\n",
        "  img_size = str(int(img_res)*10)\n",
        "else: \n",
        "  day_sat = \"LS\" #Landsat\n",
        "  img_res = 256\n",
        "  img_size = str(int(img_res)*15)\n",
        "\n",
        "#Generate Output Directory\n",
        "drive_folder = \"_\".join([\"CNN\",\"IMGB\", country, year, day_sat, img_res,\"TIF\", img_size])\n",
        "\n",
        "#Assemble DIMG filename\n",
        "DIMG = \"_\".join([\"CNN_DIMG\", country, year, day_sat, img_res, img_size])\n",
        "\n",
        "#Print values to check\n",
        "print(day_sat)\n",
        "print(img_res)\n",
        "print(img_size)\n",
        "print(drive_folder)\n",
        "print(DIMG)"
      ],
      "execution_count": null,
      "outputs": []
    },
    {
      "cell_type": "code",
      "metadata": {
        "id": "bHwUH3dzCm48"
      },
      "source": [
        "#Specify coverage date\n",
        "\n",
        "#Start\n",
        "start_MM = \"01\"\n",
        "start_DD = \"01\"\n",
        "start_date = \"-\".join([year,start_MM,start_DD])\n",
        "print(\"Coverage start date: \"+start_date)\n",
        "\n",
        "#End (change if comp. img for entire country is incomplete)\n",
        "end_YYYY = \"2016\"\n",
        "end_MM = \"04\"\n",
        "end_DD = \"30\"\n",
        "\n",
        "if int(end_YYYY)<int(year): \n",
        "  end_YYYY=str(int(year)+1)\n",
        "  print(\"Please specify end_YYYY\")\n",
        "\n",
        "end_date = \"-\".join([end_YYYY, end_MM, end_DD])\n",
        "print(\"Coverage end date: \" +end_date)\n",
        "\n"
      ],
      "execution_count": 2,
      "outputs": []
    },
    {
      "cell_type": "markdown",
      "metadata": {
        "id": "iD2hjoycGdOi"
      },
      "source": [
        "**Cloud Masking**\n",
        "\n",
        "Most remote sensing datasets come with a QA or Cloud Mask band that contains the information on whether pixels is cloudy or not. \n",
        "\n",
        "Masking pixels in an image makes those pixels transparent and excludes them from analysis. \n",
        "\n",
        "https://developers.google.com/earth-engine/tutorials/tutorial_api_05"
      ]
    },
    {
      "cell_type": "code",
      "metadata": {
        "id": "LQR0BDPVC-q5"
      },
      "source": [
        "import folium \n",
        "\n",
        "#Select appropriate filter for satellite to be used \n",
        "#Satellite selected based on availability of image coverage (LS7 1999 - present; LS8 2013 - pres; ST2 2015 - pres)\n",
        "if day_sat == \"ST\":\n",
        "\n",
        "  def maskS2clouds(image): \n",
        "    qa = image.select('QA60')\n",
        "  #Bits 10 and 11 are clouds and cirrus, respecitvely\n",
        "    cloudBitMask = 1 << 10\n",
        "    cirrusbitMask = 1 <<11\n",
        "  #Both flags should be set to zero, indicating clear conditions \n",
        "    mask = qa.bitwiseAnd(cloudBitMask).eq(0).And(qa.bitwiseAnd(cirrusBitMask).eq(0))\n",
        "    return image.updateMask(mask).divide(10000)\n",
        "\n",
        "  #Defines Visualisation Parameters\n",
        "  rgbVis = {'min': 0.0, 'max': 0.3, 'bands': ['B4', 'B3', 'B2']}\n",
        "\n",
        "  #Filter an image collection\n",
        "  cloud_masked = ee.ImageCollection('COPERNICUS/S2').filterDate(start_date, end_date)\\\n",
        "  .filterBounds(bounding_box).filter(ee.Filter.lt('CLOUDY_PIXEL_PERCENTAGE', 60))\\\n",
        "  .map(maskS2clouds)\n",
        "\n",
        "  #Take median value\n",
        "  satellite_imagery = cloud_masked.median().visualize(**rgbVis) "
      ],
      "execution_count": null,
      "outputs": []
    },
    {
      "cell_type": "markdown",
      "metadata": {
        "id": "6I6ePUMxN81S"
      },
      "source": [
        "filterDate() defines the temporal coverage\n",
        "\n",
        "filterBounds() uses the bounding box to limit the filter to the country boundaries\n",
        "\n",
        "filter(ee.Filter.lt(‘CLOUDY_PIXEL_PERCENTAGE’, 60)) provides the filter to exclude\n",
        "images with more than 60% cloud cover\n",
        "\n",
        "map(maskS2clouds) uses the function for creating cloud mask"
      ]
    },
    {
      "cell_type": "code",
      "metadata": {
        "id": "Rf_KzF77Iqbk"
      },
      "source": [
        "else: \n",
        "  if int(year) < 2013: \n",
        "    landsat_mission = 'LANDSAT/LE07/C01/T1' #Imagery collection name in GEE\n",
        "    LS_day_sat = 'LS7'\n",
        "  else: \n",
        "    landsat_mission = 'LANDSAT/LC08/C01/T1'\n",
        "    LS_day_sat = 'LS8'\n",
        "  \n",
        "  filtered_shp = ee.ImageCollection(landsat_mission)\\\n",
        "  .filterDate(start_date, end_date)\\\n",
        "  .filterBounds(bounding_box)\n",
        "\n",
        "  #Use inbuilt EE function to create big composite image from Landsat tiles\n",
        "  composite = ee.Algorithms.Landsat.simpleComposite(filtered_shp).float();\n",
        "\n",
        "  #Pansharpening\n",
        "\n",
        "  #Select RGB bands\n",
        "  if LS day_sat == 'LS7': \n",
        "    rgb = composite.select('B3', 'B2', 'B1').unitScale(0,255)\n",
        "  if LS day_sat == 'LS8': \n",
        "    rgb = composite.select('B4', 'B3', 'B2').unitScale(0,255)\n",
        "  \n",
        "  #Select panchromatic band\n",
        "  gray = composit.select('B8').unitScale(0,155)\n",
        "\n",
        "  #Convert RGB image to Hue Saturation Value & select only hue & saturation bands\n",
        "  huesat = rgb.rgbToHsv().select('hue','saturation')\n",
        "  #Combine hue, saturation & panchromatic bands, then convert back to RGB for upscaled image\n",
        "  satellite_imagery = ee.Image.cat(huesat, gray).hsvToRgb()"
      ],
      "execution_count": null,
      "outputs": []
    },
    {
      "cell_type": "markdown",
      "metadata": {
        "id": "chOq6qGoKFbE"
      },
      "source": [
        "Pansharpening combines high resolution panchromatic images (black and\n",
        "white but sensitive to colors) with lower resolution multispectral band images."
      ]
    },
    {
      "cell_type": "markdown",
      "metadata": {
        "id": "V9V0IKGwY65Q"
      },
      "source": [
        "Creating a Folium Map"
      ]
    },
    {
      "cell_type": "code",
      "metadata": {
        "id": "fvvxWaM4Y8vt"
      },
      "source": [
        "#get centroid coordinates of bounding box for map view centering\n",
        "cen_x = bbox_poly.centroid.x[0]\n",
        "cen_y = bbox.poly.centroid.y[0]\n",
        "\n",
        "#create folium object\n",
        "map = folium.Map(location = [cen_y], cen_x], \n",
        "                 zoom_start = 6, #defines zoom level of map\n",
        "                 width = 1280, #define size of map\n",
        "                 height = 766,\n",
        "                 attr=day_sat) #display name of satellite\n",
        "\n",
        "#get mapID of sat_imagery from GEE\n",
        "ee_image_map_id = ee.Image(satellite_imagery).getMapId()\n",
        "\n",
        "#add sat_imagery to map \n",
        "folium.raster_layers.TileLayer(\n",
        "    tiles = ee_image_map_id['tile_fetcher'].url_format, #map data source; uses mapID to get URL link of filtered satellite imagery\n",
        "    attr = 'Google Earth Engine', \n",
        "    name = 'Daytime Imagery', \n",
        "    overlay = True, #imagery will be placed over Folium default base map\n",
        "    control = True, #layer will be included in Layer Control \n",
        "    ).add_to(map)\n",
        "\n",
        "#Add bounding box\n",
        "folium.GeoJson(\n",
        "    data = bounding_box.getInfo(),\n",
        "    name = 'Bounding box',\n",
        "    style_function = lambda feature: {\n",
        "        'fillColor': '#FFFFFF00',\n",
        "        'weight' : 3,\n",
        "        'fillOpacity' : 0.5,\n",
        "        },\n",
        "    overlay = True, \n",
        "    control = True,   \n",
        "    ).add_to(map)\n",
        "\n",
        "#Add map title \n",
        "if day_sat == \"ST\": \n",
        "  map_title = \"Sentinel-2 Imagery: Please check if composite image is complete\"\n",
        "else: \n",
        "  map_title = \"Landsat Imagery: Please check if composite image is complete\"\n",
        "title_html = '''\n",
        "              <h3 align = \"center\" style=\"font-size:16px\"><b>{}</b></h3>'''.format(map_title)\n",
        "map.get_root().html.add_child(folium.Element(title_html))\n",
        "\n",
        "#add layer control panel \n",
        "map.add_child(folium.LayerControl())\n",
        "#Display map\n",
        "display(map)"
      ],
      "execution_count": null,
      "outputs": []
    },
    {
      "cell_type": "markdown",
      "metadata": {
        "id": "eMc338vndE-5"
      },
      "source": [
        "Checking Task Count"
      ]
    },
    {
      "cell_type": "code",
      "metadata": {
        "id": "1FtDbuZzbx72"
      },
      "source": [
        "#Identify the number of “Ready” and “Running” tasks from the GEE task list\n",
        "#Verify less than 3000\n",
        "\n",
        "def get_queued_task():\n",
        "  queued_task_count = 0\n",
        "  for queued_task in ee.batch.Task.list(): \n",
        "    if queued_task.state in [\"READY\", \"RUNNING\"]: \n",
        "      queued_task_count += 1\n",
        "  return queued_task_count\n",
        "\n",
        "def get_queued_task_filenames():\n",
        "  print(\"Fetching queued files\")\n",
        "  task_filenames = []\n",
        "  for queued_task in ee.batch.Task.list():\n",
        "    if queued_task.state in [\"READY\", \"RUNNING\"]: \n",
        "      print(queued_task.state+\": \"+queued_task.status()['description'])\n",
        "      task_filenames.append(queued_task.status()['description'])\n",
        "  print(\"---end fetch---\\n\")\n"
      ],
      "execution_count": null,
      "outputs": []
    },
    {
      "cell_type": "markdown",
      "metadata": {
        "id": "RFMgbdu1dIPw"
      },
      "source": [
        "Downloading Imagery"
      ]
    },
    {
      "cell_type": "code",
      "metadata": {
        "id": "htWI2O6Ec__h"
      },
      "source": [
        "import os\n",
        "def download_satellite_imagery(sat_imagery): #satellite imagery object\n",
        "  next_batch_size = 10 #set no. of new tasks to be added after reaching task limit\n",
        "  target count = 3000 - next_batch_size #Threshold before creating new tasks\n",
        "\n",
        "  task_count = get_queued_task() #Execute function & store R/R tasks in var.\n",
        "  queued_filenames = get_queued_task_filenames() #Execute function & store\n",
        "  print('Number of active tasks: {: }.'.format(task_count)) #Print active tasks\n",
        "\n",
        "for i in range(1,imagery_count):\n",
        "\n",
        "  imagery_file = DIMG + '_{:06d}.format(i)\n",
        "  imagery_filepath = '/content/gdrive/MyDrive/' + drive_folder + '/' + imagery_file + '.tif'\n",
        "\n",
        "  if task_count == 3000: #Number of tasks has reached limit\n",
        "\n",
        "  #Loop until task count has not reach target_count\n",
        "    while task_count > target count: \n",
        "      active_task = get_queued_task() #Get no. of tasks on list \n",
        "\n",
        "      if active_task < task_count: #Check if there are finished tasks\n",
        "        task_count = active_task\n",
        "        print(\"*\"*30)\n",
        "        print(\"Number of current pending tasks in queue: {: }.\".format(task_count))\n",
        "        print(\"Remaining tasks before starting new batch: {: }.format(task_count-target_count\")\n",
        "\n",
        "      else: #check whether new imagery to be pooled is alr in google drive or in queue\n",
        "        if (os.path.exists(imagery_filepath)==False): #prevents duplication of tasks\n",
        "          if(imagery_file not in queued_filenames): \n",
        "            print(\"-----------------------\")\n",
        "            print(\"Starting new task...\")\n",
        "            print(\"downloading \"+ imagery_file)\n",
        "\n",
        "            #Set var to store centroid coordinates obtained from centroid CSV\n",
        "            c_lon = df['lon'][i]\n",
        "            c_lat = df['lat'][i]\n",
        "           \n",
        "            #Employ centroid coordinates to define a geospatial circle using GEE point geometry\n",
        "            #Buffer of 1920m - 1/2 grid size measured from centroid to grid boundary\n",
        "            geometry = ee.Geometry.Point([c_lon, c_lat]).buffer(1920)\n",
        "\n",
        "            #Redefine geom var with c of circle as its value\n",
        "            geometry = geometry.getInfo()['coordinates'][0]\n",
        "            \n",
        "            #Define export parameters\n",
        "            if(day_sat == \"ST\"):\n",
        "              scale = 10 \n",
        "            elif (day_sat == \"LS\"): \n",
        "              scale =15 \n",
        "\n",
        "            task_config = {\n",
        "                'scale': scale, #satellite resolution \n",
        "                'region': geometry, #area coverage to download\n",
        "                'driveFolder': drive_folder #folder path\n",
        "            }\n",
        "            \n",
        "            #Describe image batch export object & name as task\n",
        "            task = ee.batch.Export.image(sat_imagery, imagery_file, task_config)\n",
        "            task.start() #Pass the task to GEE\n",
        "            task_count += 1\n",
        "\n",
        "            if task_count %1000 == 0: \n",
        "              task_count = get_queued_task() #Execute get_queued_tasks only after every 1000 tasks\n",
        "\n",
        "            print('Number of active tasks: {: }.'.format(task_count))\n",
        "        \n",
        "        else: \n",
        "          print(\"On queue: \" + imagery_file + \".tif\")\n",
        "\n",
        "      else: \n",
        "        print(\"Downloaded: \" + imagery_file +\".tif\")\n",
        "\n"
      ],
      "execution_count": null,
      "outputs": []
    },
    {
      "cell_type": "markdown",
      "metadata": {
        "id": "eQaeSgX99W4A"
      },
      "source": [
        "As illustrated in Step 6 of the section on Generating Centroids for Satellite imagery, buffer size is computed\n",
        "as follows:\n",
        "\n",
        "256 pixel x 15 meters/pixel = 3840 meter grid size\n",
        "\n",
        "3840 / 2 = 1920 meter buffer size\n",
        "\n",
        "where: 15 meters/pixel is the Landsat resolution"
      ]
    },
    {
      "cell_type": "code",
      "metadata": {
        "id": "mu347ACp_h5I"
      },
      "source": [
        "download_satellite_imagery(satellite_imagery)"
      ],
      "execution_count": null,
      "outputs": []
    }
  ]
}